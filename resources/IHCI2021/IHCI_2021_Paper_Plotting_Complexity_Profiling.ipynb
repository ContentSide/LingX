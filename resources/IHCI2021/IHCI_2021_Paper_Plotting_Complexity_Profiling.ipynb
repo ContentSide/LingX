{
  "nbformat": 4,
  "nbformat_minor": 0,
  "metadata": {
    "colab": {
      "name": "ALAPP_2021_Paper_Plotting_Complexity_Profiling.ipynb",
      "private_outputs": true,
      "provenance": [],
      "collapsed_sections": [],
      "machine_shape": "hm"
    },
    "kernelspec": {
      "name": "python3",
      "display_name": "Python 3"
    },
    "language_info": {
      "name": "python"
    },
    "accelerator": "GPU"
  },
  "cells": [
    {
      "cell_type": "markdown",
      "metadata": {
        "id": "rNdPrjzezI_n"
      },
      "source": [
        "#Install and Config LingX"
      ]
    },
    {
      "cell_type": "code",
      "metadata": {
        "id": "XcQhxvOEhUhm"
      },
      "source": [
        "!git clone https://github.com/ContentSide/lingx.git\n",
        "%cd lingx\n",
        "!pip install -e ."
      ],
      "execution_count": null,
      "outputs": []
    },
    {
      "cell_type": "markdown",
      "metadata": {
        "id": "qnCEO8BwzQrZ"
      },
      "source": [
        "#Import Libraries"
      ]
    },
    {
      "cell_type": "code",
      "metadata": {
        "id": "lC5czLQljHVA"
      },
      "source": [
        "import lingx.utils.download_lang_models\n",
        "from lingx.core.lang_model import get_nlp_object\n",
        "\n",
        "nlp_en = get_nlp_object(\"en\", use_critt_tokenization = False, package=\"partut\")\n",
        "nlp_zh = get_nlp_object(\"zh\", use_critt_tokenization = False)"
      ],
      "execution_count": null,
      "outputs": []
    },
    {
      "cell_type": "code",
      "metadata": {
        "id": "N_JoxCArkygL"
      },
      "source": [
        "from lingx.core.lang_model import get_nlp_object\n",
        "from lingx.utils.lx import get_sentence_lx\n",
        "\n",
        "nlp_en = get_nlp_object(\"en\", use_critt_tokenization = False, package=\"partut\")\n",
        "\n",
        "input = \"The reporter who the senator attacked disliked the editor.\"\n",
        "\n",
        "tokens_scores_list_idt , _ = get_sentence_lx(\n",
        "                                            input,\n",
        "                                            nlp_en,\n",
        "                                            result_format=\"segment\",\n",
        "                                            complexity_type=\"idt\", \n",
        "                                            aggregation_type=\"sum\")\n",
        "\n",
        "\n",
        "tokens_scores_list_dlt , _ = get_sentence_lx(\n",
        "                                            input,\n",
        "                                            nlp_en,\n",
        "                                            result_format=\"segment\",\n",
        "                                            complexity_type=\"dlt\", \n",
        "                                            aggregation_type=\"sum\")\n",
        "\n",
        "\n",
        "tokens_scores_list_idt_dlt , _ = get_sentence_lx(\n",
        "                                            input,\n",
        "                                            nlp_en,\n",
        "                                            result_format=\"segment\",\n",
        "                                            complexity_type=\"idt_dlt\", \n",
        "                                            aggregation_type=\"sum\")\n"
      ],
      "execution_count": null,
      "outputs": []
    },
    {
      "cell_type": "code",
      "metadata": {
        "id": "8WaqJPpN9Gyx"
      },
      "source": [
        "from lingx.utils.plot import plot_complexity_profiling\n",
        "\n",
        "plot_complexity_profiling(input, tokens_scores_list_idt, type_x=\"IDT\")"
      ],
      "execution_count": null,
      "outputs": []
    },
    {
      "cell_type": "code",
      "metadata": {
        "id": "quFNgpyI_sYR"
      },
      "source": [
        "from lingx.utils.plot import plot_complexity_profiling\n",
        "\n",
        "plot_complexity_profiling(input, tokens_scores_list_dlt, type_x=\"DLT\")"
      ],
      "execution_count": null,
      "outputs": []
    },
    {
      "cell_type": "code",
      "metadata": {
        "id": "GIfn73MZEvWu"
      },
      "source": [
        "from lingx.utils.plot import plot_complexity_profiling\n",
        "\n",
        "plot_complexity_profiling(input, tokens_scores_list_idt_dlt, type_x=\"Combined IDT+DLT\")"
      ],
      "execution_count": null,
      "outputs": []
    }
  ]
}