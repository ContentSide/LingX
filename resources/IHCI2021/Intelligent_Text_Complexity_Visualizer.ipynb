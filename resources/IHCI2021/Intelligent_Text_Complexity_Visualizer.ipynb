{
  "nbformat": 4,
  "nbformat_minor": 0,
  "metadata": {
    "colab": {
      "name": "Intelligent Text Complexity Visualizer.ipynb",
      "provenance": []
    },
    "kernelspec": {
      "name": "python3",
      "display_name": "Python 3"
    },
    "language_info": {
      "name": "python"
    }
  },
  "cells": [
    {
      "cell_type": "markdown",
      "metadata": {
        "id": "Wyw8Xkimn5kj"
      },
      "source": [
        "#LingX Library Installation"
      ]
    },
    {
      "cell_type": "code",
      "metadata": {
        "id": "cPvnCWzKnT7V"
      },
      "source": [
        "!git clone https://github.com/ContentSide/lingx.git\n",
        "%cd lingx\n",
        "!pip install -e ."
      ],
      "execution_count": null,
      "outputs": []
    },
    {
      "cell_type": "markdown",
      "metadata": {
        "id": "4iwbhr_zoA8C"
      },
      "source": [
        "#Language Resources Downloading"
      ]
    },
    {
      "cell_type": "code",
      "metadata": {
        "id": "tILW-CDQnhyD"
      },
      "source": [
        "from lingx.utils import download_lang_models\n",
        "from lingx.core.lang_model import get_nlp_object\n",
        "from lingx.utils.lx import get_sentence_lx\n",
        "\n",
        "nlp_en = get_nlp_object(\"en\", use_critt_tokenization = False, package=\"partut\")"
      ],
      "execution_count": null,
      "outputs": []
    },
    {
      "cell_type": "markdown",
      "metadata": {
        "id": "eIU72F8inzbq"
      },
      "source": [
        "#Samples"
      ]
    },
    {
      "cell_type": "code",
      "metadata": {
        "id": "eBuWi9n5nu9D"
      },
      "source": [
        "samples = [\n",
        "    \"This is my third visit to Japan since becoming Australia's Foreign Minister last September. In October of 2013, I was here for bilateral meeting and that occasion I spoke here at the National Press Club and then in April I was in Hiroshima for the non-proliferation and disarmament initiative meeting. I'm joined on this visit by my colleague the Australian Defense Minister David Johnson for the regular 2+2 Foreign and Defense Ministerial Consultations with that Japanese counterparts and I thank Ministers Kishida and Onodera for hosting the meeting yesterday. The Australian government wishes to enhance our security and defense relations with Japan. Our shared interests in peace and security in our region and beyond make us natural partners. There's an increasing confidence and trust in each other and an increasing ease in working together because our two countries share not only a strong bond of friendship but also common values and interests.\",\n",
        "    \"Freedom, democracy rule of law open markets and free trade are all natural concepts to both Australians and Japanese and that helps make us natural partners. We look instinctively to each other to respond to a range of regional crises. I'm reminded of a meeting I had last December with Defense Minister Onodera at the airfield in Manila as our respective transport planes were laden with humanitarian aid and carrying personnel to the typhoon affected areas in the Philippines. As a generous contributor to global development and a linchpin of the United States alliance network Japan has helped underwrite regional stability for many years and Australia welcomes Japan's efforts to play an even greater role in global and regional affairs through a proactive contribution to peace. In April, when the Australian prime minister visited Japan, Tony Abbott and prime minister Abe agreed to elevate bilateral and security relationship to a new level.\",\n",
        "    \"We have worked side by side in challenging environments in the past, including in Iraq, Afghanistan and in South Sudan. So we feel comfortable in continuing to enhance this relationship. I'm very pleased that we have made progress on that aim during the course of this visit. There is considerable scope for us to enhance that our cooperation including through our mutual ally the United States. Since the 2nd World War, regional stability and growth have depended on the United States guaranteeing peace and security in the region and there's no doubt that region would look very different if, for example, throughout the Cold War Japan, South Korea and the ASEAN countries and others had to stand alone. The imperative would have been to focus on arms not on economic growth. But that order can't be guaranteed in perpetuity.\",\n",
        "    \"The United States has many calls on its resources in many parts of the world and while we welcome and encourage the United States rebalance to the Asia Pacific, countries in our region should not be complacent about how the continued growth and prosperity depends on United States regional engagement. Like Japan, Australia is concerned when regional tensions in the South China Sea and the East China Sea escalate. We don't take position on sovereignty climbs or on territorial disputes, but we do take a stand on how to resolve them and that must be within the rules based-regional order that has served us all so well for the past 60 years. And that is why Australia would persist in its cause for tensions to be resolved in accordance with international law and without the use of coercion or force to alter the status quo.\",\n",
        "    \"Japan and Australia both agree that the East Asia summit should be the region's premier security forum and we welcome Prime Minister Abe's Shangri-La speech when he made a number of significant points, but in particular his support for the East Asia Summit. Not only is it a leader level dialogue it also involves all of the countries of ASEAN and the key nations of the indo-pacific. So the East Asia Summit gives us the framework through which we can minimize disputes, communicate effectively and build common understanding. It has the right members and the right mandate. In April of this year Prime Ministers Abbott and Abe agreed to enhance cooperation for economic development and peace and stability in the Pacific.  My colleague, the Defense Minister, and I will bring the strategic vision to this cooperation.\",\n",
        "    \"For example, the integration of Australia's aid agency and its program administration into Department of Foreign Affairs and Trade helps ensure that our aid and trade and defense and diplomatic efforts in the Pacific are aligned and mutually reinforcing. For over a decade, Australia and Japan have been working together to help developing countries in the Pacific, but I think there's more that we can do together to enhance economic growth and help lift people out of poverty and lift standards of living in the region. For example, in Samoa we are cooperating to enhance the quality of education. In the Solomon Islands, we are helping repair critical water infrastructure. And as two of the top aid donors in the Pacific, I think it's important that we continue to progress the partnership to make a difference in our part of the world.\"\n",
        "    ]\n",
        "\n",
        "html_outputs = [\"text1.html\",\"text2.html\",\"text3.html\",\"text4.html\",\"text5.html\",\"text6.html\"]"
      ],
      "execution_count": null,
      "outputs": []
    },
    {
      "cell_type": "code",
      "metadata": {
        "id": "DC0K7hLMoKIR"
      },
      "source": [
        "from lingx.utils.text_visualizer import visualize_text_complexity\n",
        "for item in range(6):\n",
        "    visualize_text_complexity(\n",
        "                                samples[item], \n",
        "                                nlp_en, \n",
        "                                color_category = \"orange\",\n",
        "                                html_output = html_outputs[item])"
      ],
      "execution_count": null,
      "outputs": []
    }
  ]
}