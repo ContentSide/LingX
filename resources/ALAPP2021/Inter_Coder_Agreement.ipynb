{
  "nbformat": 4,
  "nbformat_minor": 0,
  "metadata": {
    "colab": {
      "name": "Inter-Coder Agreement.ipynb",
      "provenance": [],
      "collapsed_sections": []
    },
    "kernelspec": {
      "name": "python3",
      "display_name": "Python 3"
    },
    "language_info": {
      "name": "python"
    }
  },
  "cells": [
    {
      "cell_type": "markdown",
      "metadata": {
        "id": "bV_8eZ_-ffaD"
      },
      "source": [
        "#Install Dependencies"
      ]
    },
    {
      "cell_type": "code",
      "metadata": {
        "colab": {
          "base_uri": "https://localhost:8080/"
        },
        "id": "-lWvHG1-e6YU",
        "outputId": "0eae445c-4963-402d-cf96-b887584836d0"
      },
      "source": [
        "!pip install nltk\n",
        "!git clone https://github.com/ContentSide/lingx.git\n",
        "\n",
        "import pandas as pd\n",
        "from nltk import agreement"
      ],
      "execution_count": 8,
      "outputs": [
        {
          "output_type": "stream",
          "text": [
            "Requirement already satisfied: nltk in /usr/local/lib/python3.7/dist-packages (3.2.5)\n",
            "Requirement already satisfied: six in /usr/local/lib/python3.7/dist-packages (from nltk) (1.15.0)\n",
            "Cloning into 'lingx'...\n",
            "remote: Enumerating objects: 711, done.\u001b[K\n",
            "remote: Counting objects: 100% (711/711), done.\u001b[K\n",
            "remote: Compressing objects: 100% (427/427), done.\u001b[K\n",
            "remote: Total 711 (delta 380), reused 587 (delta 261), pack-reused 0\u001b[K\n",
            "Receiving objects: 100% (711/711), 695.82 KiB | 12.42 MiB/s, done.\n",
            "Resolving deltas: 100% (380/380), done.\n"
          ],
          "name": "stdout"
        }
      ]
    },
    {
      "cell_type": "markdown",
      "metadata": {
        "id": "m_aemCQ-fl0q"
      },
      "source": [
        "#Provide path to CSV file"
      ]
    },
    {
      "cell_type": "code",
      "metadata": {
        "id": "YllztayHfBE8"
      },
      "source": [
        "path_to_csv_file = \"/content/lingx/resources/TPRDB/EN-ZH_IMBst18/HumanEvaluations/errors_for_cal_kappa.csv\""
      ],
      "execution_count": 2,
      "outputs": []
    },
    {
      "cell_type": "markdown",
      "metadata": {
        "id": "WNB_R6GyfqV7"
      },
      "source": [
        "#Read and Normalize the dataframe"
      ]
    },
    {
      "cell_type": "code",
      "metadata": {
        "colab": {
          "base_uri": "https://localhost:8080/",
          "height": 411
        },
        "id": "SMzILuvUe2oc",
        "outputId": "5163ca13-23f2-42ac-d498-3f4cc2db414b"
      },
      "source": [
        "df = pd.read_csv(path_to_csv_file)\n",
        "\n",
        "df_numeral = df[['Any', 'Accuracy', 'Fluency', \n",
        "                 'Style', 'Critical','Minor']]\n",
        "\n",
        "normalized_df=(df_numeral-df_numeral.min())/(df_numeral.max()-df_numeral.min())\n",
        "\n",
        "\n",
        "normalized_df = pd.concat([\n",
        "                df[['SessionSeg', 'Annotator']],\n",
        "                normalized_df,\n",
        "                    ],\n",
        "                axis=1)\n",
        "normalized_df"
      ],
      "execution_count": 3,
      "outputs": [
        {
          "output_type": "execute_result",
          "data": {
            "text/html": [
              "<div>\n",
              "<style scoped>\n",
              "    .dataframe tbody tr th:only-of-type {\n",
              "        vertical-align: middle;\n",
              "    }\n",
              "\n",
              "    .dataframe tbody tr th {\n",
              "        vertical-align: top;\n",
              "    }\n",
              "\n",
              "    .dataframe thead th {\n",
              "        text-align: right;\n",
              "    }\n",
              "</style>\n",
              "<table border=\"1\" class=\"dataframe\">\n",
              "  <thead>\n",
              "    <tr style=\"text-align: right;\">\n",
              "      <th></th>\n",
              "      <th>SessionSeg</th>\n",
              "      <th>Annotator</th>\n",
              "      <th>Any</th>\n",
              "      <th>Accuracy</th>\n",
              "      <th>Fluency</th>\n",
              "      <th>Style</th>\n",
              "      <th>Critical</th>\n",
              "      <th>Minor</th>\n",
              "    </tr>\n",
              "  </thead>\n",
              "  <tbody>\n",
              "    <tr>\n",
              "      <th>0</th>\n",
              "      <td>P00_Ist3_1</td>\n",
              "      <td>A</td>\n",
              "      <td>0.135802</td>\n",
              "      <td>0.073171</td>\n",
              "      <td>0.122449</td>\n",
              "      <td>0.000000</td>\n",
              "      <td>0.134146</td>\n",
              "      <td>0.015873</td>\n",
              "    </tr>\n",
              "    <tr>\n",
              "      <th>1</th>\n",
              "      <td>P00_Ist3_2</td>\n",
              "      <td>A</td>\n",
              "      <td>0.037037</td>\n",
              "      <td>0.048780</td>\n",
              "      <td>0.000000</td>\n",
              "      <td>0.000000</td>\n",
              "      <td>0.012195</td>\n",
              "      <td>0.047619</td>\n",
              "    </tr>\n",
              "    <tr>\n",
              "      <th>2</th>\n",
              "      <td>P00_Ist3_3</td>\n",
              "      <td>A</td>\n",
              "      <td>0.037037</td>\n",
              "      <td>0.024390</td>\n",
              "      <td>0.040816</td>\n",
              "      <td>0.000000</td>\n",
              "      <td>0.000000</td>\n",
              "      <td>0.063492</td>\n",
              "    </tr>\n",
              "    <tr>\n",
              "      <th>3</th>\n",
              "      <td>P00_Ist3_4</td>\n",
              "      <td>A</td>\n",
              "      <td>0.074074</td>\n",
              "      <td>0.085366</td>\n",
              "      <td>0.000000</td>\n",
              "      <td>0.000000</td>\n",
              "      <td>0.048780</td>\n",
              "      <td>0.047619</td>\n",
              "    </tr>\n",
              "    <tr>\n",
              "      <th>4</th>\n",
              "      <td>P00_Ist3_5</td>\n",
              "      <td>A</td>\n",
              "      <td>0.259259</td>\n",
              "      <td>0.195122</td>\n",
              "      <td>0.040816</td>\n",
              "      <td>0.181818</td>\n",
              "      <td>0.097561</td>\n",
              "      <td>0.222222</td>\n",
              "    </tr>\n",
              "    <tr>\n",
              "      <th>...</th>\n",
              "      <td>...</td>\n",
              "      <td>...</td>\n",
              "      <td>...</td>\n",
              "      <td>...</td>\n",
              "      <td>...</td>\n",
              "      <td>...</td>\n",
              "      <td>...</td>\n",
              "      <td>...</td>\n",
              "    </tr>\n",
              "    <tr>\n",
              "      <th>601</th>\n",
              "      <td>P09_Ist6_1</td>\n",
              "      <td>C</td>\n",
              "      <td>0.061728</td>\n",
              "      <td>0.073171</td>\n",
              "      <td>0.000000</td>\n",
              "      <td>0.000000</td>\n",
              "      <td>0.073171</td>\n",
              "      <td>0.000000</td>\n",
              "    </tr>\n",
              "    <tr>\n",
              "      <th>602</th>\n",
              "      <td>P09_Ist6_2</td>\n",
              "      <td>C</td>\n",
              "      <td>0.061728</td>\n",
              "      <td>0.073171</td>\n",
              "      <td>0.000000</td>\n",
              "      <td>0.000000</td>\n",
              "      <td>0.060976</td>\n",
              "      <td>0.015873</td>\n",
              "    </tr>\n",
              "    <tr>\n",
              "      <th>603</th>\n",
              "      <td>P09_Ist6_3</td>\n",
              "      <td>C</td>\n",
              "      <td>0.024691</td>\n",
              "      <td>0.036585</td>\n",
              "      <td>0.000000</td>\n",
              "      <td>0.000000</td>\n",
              "      <td>0.036585</td>\n",
              "      <td>0.000000</td>\n",
              "    </tr>\n",
              "    <tr>\n",
              "      <th>604</th>\n",
              "      <td>P09_Ist6_4</td>\n",
              "      <td>C</td>\n",
              "      <td>0.024691</td>\n",
              "      <td>0.036585</td>\n",
              "      <td>0.000000</td>\n",
              "      <td>0.000000</td>\n",
              "      <td>0.012195</td>\n",
              "      <td>0.031746</td>\n",
              "    </tr>\n",
              "    <tr>\n",
              "      <th>605</th>\n",
              "      <td>P09_Ist6_5</td>\n",
              "      <td>C</td>\n",
              "      <td>0.271605</td>\n",
              "      <td>0.280488</td>\n",
              "      <td>0.000000</td>\n",
              "      <td>0.000000</td>\n",
              "      <td>0.280488</td>\n",
              "      <td>0.000000</td>\n",
              "    </tr>\n",
              "  </tbody>\n",
              "</table>\n",
              "<p>606 rows × 8 columns</p>\n",
              "</div>"
            ],
            "text/plain": [
              "     SessionSeg Annotator       Any  ...     Style  Critical     Minor\n",
              "0    P00_Ist3_1         A  0.135802  ...  0.000000  0.134146  0.015873\n",
              "1    P00_Ist3_2         A  0.037037  ...  0.000000  0.012195  0.047619\n",
              "2    P00_Ist3_3         A  0.037037  ...  0.000000  0.000000  0.063492\n",
              "3    P00_Ist3_4         A  0.074074  ...  0.000000  0.048780  0.047619\n",
              "4    P00_Ist3_5         A  0.259259  ...  0.181818  0.097561  0.222222\n",
              "..          ...       ...       ...  ...       ...       ...       ...\n",
              "601  P09_Ist6_1         C  0.061728  ...  0.000000  0.073171  0.000000\n",
              "602  P09_Ist6_2         C  0.061728  ...  0.000000  0.060976  0.015873\n",
              "603  P09_Ist6_3         C  0.024691  ...  0.000000  0.036585  0.000000\n",
              "604  P09_Ist6_4         C  0.024691  ...  0.000000  0.012195  0.031746\n",
              "605  P09_Ist6_5         C  0.271605  ...  0.000000  0.280488  0.000000\n",
              "\n",
              "[606 rows x 8 columns]"
            ]
          },
          "metadata": {
            "tags": []
          },
          "execution_count": 3
        }
      ]
    },
    {
      "cell_type": "markdown",
      "metadata": {
        "id": "LngQ-Au_fv3c"
      },
      "source": [
        "# Create two functions to feed `nltk.agreement.AnnotationTask` class"
      ]
    },
    {
      "cell_type": "code",
      "metadata": {
        "colab": {
          "base_uri": "https://localhost:8080/"
        },
        "id": "nD6GE89ffPgL",
        "outputId": "dfc18c6c-38a4-40aa-b4c2-0b0710f22abb"
      },
      "source": [
        "def get_annotation_task(\n",
        "                        coder_column = \"Annotator\",\n",
        "                        item_column = \"SessionSeg\",\n",
        "                        label_column = \"Any\"):\n",
        "\n",
        "    annotation_task = []\n",
        "    for index, item in normalized_df.iterrows():\n",
        "        annotation_task.append([item[coder_column], item[item_column], item[label_column]])\n",
        "\n",
        "    return annotation_task\n",
        "\n",
        "def distance_function(x,y):\n",
        "    delta=x-y\n",
        "    return abs(delta)\n",
        "\n",
        "\n",
        "# to test the function\n",
        "annotation_task = get_annotation_task(coder_column = \"Annotator\", item_column = \"SessionSeg\", label_column = \"Any\")\n",
        "\n",
        "print(\"Sample of annotation task data:\\n\")\n",
        "print(annotation_task[0:2])"
      ],
      "execution_count": 6,
      "outputs": [
        {
          "output_type": "stream",
          "text": [
            "Sample of annotation task data:\n",
            "\n",
            "[['A', 'P00_Ist3_1', 0.13580246913580246], ['A', 'P00_Ist3_2', 0.037037037037037035]]\n"
          ],
          "name": "stdout"
        }
      ]
    },
    {
      "cell_type": "markdown",
      "metadata": {
        "id": "VCW1STUDgHXC"
      },
      "source": [
        "# Calculating Inter-Coder Agreements"
      ]
    },
    {
      "cell_type": "code",
      "metadata": {
        "colab": {
          "base_uri": "https://localhost:8080/"
        },
        "id": "f4Ehd5k7fQgT",
        "outputId": "b9abe28b-d4ba-463f-8f0d-38e73aeedac9"
      },
      "source": [
        "label_column = ['Any', 'Accuracy', 'Fluency', \n",
        "                'Style', 'Critical','Minor']\n",
        "\n",
        "def distance_function(x,y):\n",
        "    delta=x-y\n",
        "    return abs(delta)\n",
        "\n",
        "\n",
        "for item in label_column:\n",
        "\n",
        "    annotation_task = get_annotation_task(coder_column = \"Annotator\", item_column = \"SessionSeg\", label_column = item)\n",
        "    rating_task = agreement.AnnotationTask(data=annotation_task, distance=distance_function)\n",
        "    print(f\"Label : {item}\")\n",
        "    print(\"kappa \" +str(rating_task.kappa()))\n",
        "    print(\"fleiss \" + str(rating_task.multi_kappa()))\n",
        "    print(\"alpha \" +str(rating_task.alpha()))\n",
        "    print(\"scotts \" + str(rating_task.pi()))\n",
        "    print()"
      ],
      "execution_count": 7,
      "outputs": [
        {
          "output_type": "stream",
          "text": [
            "Label : Any\n",
            "kappa 0.8531276941717335\n",
            "fleiss 0.852587431902514\n",
            "alpha 0.20638351404601274\n",
            "scotts 0.8516922256612892\n",
            "\n",
            "Label : Accuracy\n",
            "kappa 0.9154301335633132\n",
            "fleiss 0.9152220922178368\n",
            "alpha 0.44094316795496924\n",
            "scotts 0.9149690020851614\n",
            "\n",
            "Label : Fluency\n",
            "kappa 0.8166101733187144\n",
            "fleiss 0.814770539088119\n",
            "alpha 0.009221563025255008\n",
            "scotts 0.801914464606351\n",
            "\n",
            "Label : Style\n",
            "kappa 0.741835289161885\n",
            "fleiss 0.7385729115695417\n",
            "alpha 0.021035598705502312\n",
            "scotts 0.7351218608099348\n",
            "\n",
            "Label : Critical\n",
            "kappa 0.910536990343188\n",
            "fleiss 0.9104056677390059\n",
            "alpha 0.4276497553737072\n",
            "scotts 0.9101906242216101\n",
            "\n",
            "Label : Minor\n",
            "kappa 0.8709120127802246\n",
            "fleiss 0.8659092126789742\n",
            "alpha -0.03511052376349788\n",
            "scotts 0.862036583884514\n",
            "\n"
          ],
          "name": "stdout"
        }
      ]
    },
    {
      "cell_type": "code",
      "metadata": {
        "id": "GnXTlILohGOO"
      },
      "source": [
        ""
      ],
      "execution_count": null,
      "outputs": []
    }
  ]
}